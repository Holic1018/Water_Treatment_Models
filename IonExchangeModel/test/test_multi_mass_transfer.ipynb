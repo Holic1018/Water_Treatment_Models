{
 "cells": [
  {
   "cell_type": "code",
   "execution_count": 1,
   "metadata": {},
   "outputs": [],
   "source": [
    "import warnings\n",
    "warnings.simplefilter(\"ignore\")\n",
    "\n",
    "import numpy as np\n",
    "import pandas as pd\n",
    "import matplotlib.pyplot as plt\n",
    "\n",
    "\n",
    "gm_per_lb = 453.59237\n",
    "l_per_gal = 3.785411784\n",
    "cm_per_in = 2.54\n",
    "cm_per_ft = 12 * cm_per_in\n",
    "ml_per_gal = 1e3 * l_per_gal\n",
    "min_per_day = 24 * 60                           ## 1440 minutes per day\n",
    "gpmPft2_to_cmPs = 6.79e-2                       ## 6.79e-2 cm/s per gpm/ft**2\n",
    "\n"
   ]
  },
  {
   "cell_type": "code",
   "execution_count": 2,
   "metadata": {},
   "outputs": [],
   "source": [
    "pfas_prop = pd.read_excel('../../PSDM/PFAS_properties.xlsx', index_col=0, header=0)\n",
    "\n",
    "mw_anions = {'CHLORIDE': 35.45, 'SULFATE': 96.06, \n",
    "            'BICARBONATE': 12.01, ## as carbon\n",
    "            'NITRATE': 14, ## as nitrogen\n",
    "            }"
   ]
  },
  {
   "cell_type": "code",
   "execution_count": 3,
   "metadata": {},
   "outputs": [],
   "source": [
    "## Use for running IX without saving a file\n",
    "from ixpy import hsdmix, psdmix\n",
    "from io import BytesIO\n",
    "\n",
    "def io_data(data_dict):\n",
    "    '''\n",
    "    Parameters\n",
    "    ----------\n",
    "    data_dict : dictionary of dataframes\n",
    "        must be in the form:\n",
    "            \n",
    "            {'Cin': cin_df,\n",
    "             'params': params_df,\n",
    "             'ions': ions_df\n",
    "             }\n",
    "\n",
    "\n",
    "    Returns\n",
    "    -------\n",
    "    iex_inmem : BytesIO RAM file\n",
    "        a RAM file that can be supplied to HSDMIX in place of saved file\n",
    "\n",
    "    '''\n",
    "    \n",
    "    iex_inmem=BytesIO()\n",
    "    # writer=pd.ExcelWriter(iex_inmem, engine='xlsxwriter')\n",
    "    # for sheet_name in data_dict.keys():\n",
    "    #     data_dict[sheet_name].to_excel(writer, sheet_name=sheet_name, index=False)\n",
    "    # writer.save()\n",
    "    # iex_inmem.seek(0,0)\n",
    "    with pd.ExcelWriter(iex_inmem) as writer:\n",
    "        for sheet_name in data_dict.keys():\n",
    "            data_dict[sheet_name].to_excel(writer, sheet_name=sheet_name, index=False)\n",
    "    iex_inmem.seek(0,0)\n",
    "    return iex_inmem"
   ]
  },
  {
   "cell_type": "markdown",
   "metadata": {},
   "source": [
    "## Test with individual mass transfer coefficients"
   ]
  },
  {
   "cell_type": "code",
   "execution_count": 5,
   "metadata": {},
   "outputs": [
    {
     "ename": "KeyError",
     "evalue": "'q'",
     "output_type": "error",
     "traceback": [
      "\u001b[31m---------------------------------------------------------------------------\u001b[39m",
      "\u001b[31mKeyError\u001b[39m                                  Traceback (most recent call last)",
      "\u001b[36mCell\u001b[39m\u001b[36m \u001b[39m\u001b[32mIn[5]\u001b[39m\u001b[32m, line 3\u001b[39m\n\u001b[32m      1\u001b[39m fn = \u001b[33m'\u001b[39m\u001b[33m./data/test_input_multi_mass_transfer.xlsx\u001b[39m\u001b[33m'\u001b[39m\n\u001b[32m----> \u001b[39m\u001b[32m3\u001b[39m IXcol = \u001b[43mhsdmix\u001b[49m\u001b[43m.\u001b[49m\u001b[43mHSDMIX\u001b[49m\u001b[43m(\u001b[49m\u001b[43mfn\u001b[49m\u001b[43m)\u001b[49m\n\u001b[32m      4\u001b[39m t, u = IXcol.solve()\n\u001b[32m      8\u001b[39m df = hsdmix.conv_iex_u(u, t, IXcol.ions)\n",
      "\u001b[36mFile \u001b[39m\u001b[32mc:\\Users\\jburkhar\\OneDrive - Environmental Protection Agency (EPA)\\Profile\\Documents\\MMT\\IonExchangeModel\\venv\\Lib\\site-packages\\ixpy\\hsdmix.py:90\u001b[39m, in \u001b[36mHSDMIX.__init__\u001b[39m\u001b[34m(self, inp_file)\u001b[39m\n\u001b[32m     88\u001b[39m \u001b[38;5;28;01mdef\u001b[39;00m\u001b[38;5;250m \u001b[39m\u001b[34m__init__\u001b[39m(\u001b[38;5;28mself\u001b[39m, inp_file):\n\u001b[32m     89\u001b[39m \u001b[38;5;250m    \u001b[39m\u001b[33;03m\"\"\"  \"\"\"\u001b[39;00m\n\u001b[32m---> \u001b[39m\u001b[32m90\u001b[39m     \u001b[38;5;28;43mself\u001b[39;49m\u001b[43m.\u001b[49m\u001b[43mload_data\u001b[49m\u001b[43m(\u001b[49m\u001b[43minp_file\u001b[49m\u001b[43m)\u001b[49m\n",
      "\u001b[36mFile \u001b[39m\u001b[32mc:\\Users\\jburkhar\\OneDrive - Environmental Protection Agency (EPA)\\Profile\\Documents\\MMT\\IonExchangeModel\\venv\\Lib\\site-packages\\ixpy\\hsdmix.py:104\u001b[39m, in \u001b[36mHSDMIX.load_data\u001b[39m\u001b[34m(self, inp_file)\u001b[39m\n\u001b[32m     98\u001b[39m xls = pd.ExcelFile(inp_file)\n\u001b[32m     99\u001b[39m \u001b[38;5;28mself\u001b[39m.params = pd.read_excel(xls, \\\n\u001b[32m    100\u001b[39m                             sheet_name=\u001b[33m'\u001b[39m\u001b[33mparams\u001b[39m\u001b[33m'\u001b[39m,\\\n\u001b[32m    101\u001b[39m                             header = [\u001b[32m0\u001b[39m],\\\n\u001b[32m    102\u001b[39m                             index_col = [\u001b[32m0\u001b[39m])\n\u001b[32m--> \u001b[39m\u001b[32m104\u001b[39m \u001b[38;5;28mself\u001b[39m.params = \u001b[43mconv_params_data\u001b[49m\u001b[43m(\u001b[49m\u001b[38;5;28;43mself\u001b[39;49m\u001b[43m.\u001b[49m\u001b[43mparams\u001b[49m\u001b[43m)\u001b[49m\n\u001b[32m    106\u001b[39m \u001b[38;5;28mself\u001b[39m.params = \u001b[38;5;28mself\u001b[39m.params.drop(\u001b[33m'\u001b[39m\u001b[33munits\u001b[39m\u001b[33m'\u001b[39m, axis=\u001b[32m1\u001b[39m)[\u001b[33m'\u001b[39m\u001b[33mvalue\u001b[39m\u001b[33m'\u001b[39m] \u001b[38;5;66;03m#drops unused column\u001b[39;00m\n\u001b[32m    108\u001b[39m \u001b[38;5;28mself\u001b[39m.ions = pd.read_excel(xls, \\\n\u001b[32m    109\u001b[39m                           sheet_name=\u001b[33m'\u001b[39m\u001b[33mions\u001b[39m\u001b[33m'\u001b[39m,\\\n\u001b[32m    110\u001b[39m                           header=[\u001b[32m0\u001b[39m],\\\n\u001b[32m    111\u001b[39m                           index_col=[\u001b[32m0\u001b[39m])\n",
      "\u001b[36mFile \u001b[39m\u001b[32mc:\\Users\\jburkhar\\OneDrive - Environmental Protection Agency (EPA)\\Profile\\Documents\\MMT\\IonExchangeModel\\venv\\Lib\\site-packages\\ixpy\\paramsheets.py:443\u001b[39m, in \u001b[36mconv_params_data\u001b[39m\u001b[34m(data)\u001b[39m\n\u001b[32m    441\u001b[39m \u001b[38;5;28;01mfor\u001b[39;00m p \u001b[38;5;129;01min\u001b[39;00m params_Dct.keys():\n\u001b[32m    442\u001b[39m     u_in[p] = params_Dct[p][\u001b[33m'\u001b[39m\u001b[33munits\u001b[39m\u001b[33m'\u001b[39m]\n\u001b[32m--> \u001b[39m\u001b[32m443\u001b[39m     u_out[p] = \u001b[43mu_out\u001b[49m\u001b[43m[\u001b[49m\u001b[43mp\u001b[49m\u001b[43m]\u001b[49m\n\u001b[32m    444\u001b[39m     u_fn[p] = u_fn[p]\n\u001b[32m    447\u001b[39m params_out = conv_params(low_data, u_in, u_out, u_fn)\n",
      "\u001b[31mKeyError\u001b[39m: 'q'"
     ]
    }
   ],
   "source": [
    "fn = './data/test_input_multi_mass_transfer.xlsx'\n",
    "\n",
    "IXcol = hsdmix.HSDMIX(fn)\n",
    "t, u = IXcol.solve()\n",
    "\n",
    "\n",
    "\n",
    "df = hsdmix.conv_iex_u(u, t, IXcol.ions)\n",
    "print(df)"
   ]
  },
  {
   "cell_type": "code",
   "execution_count": null,
   "metadata": {},
   "outputs": [],
   "source": [
    "for comp in df.columns:\n",
    "    if comp not in ['CHLORIDE', 'SULFATE', 'BICARBONATE', 'NITRATE']:\n",
    "        plt.plot(df.index, \n",
    "                 df[comp].values,\n",
    "                 label=comp)\n",
    "\n",
    "plt.xlabel('Time (days)')\n",
    "plt.ylabel('Concentration (ng/L)')\n",
    "plt.legend(loc='upper left')"
   ]
  },
  {
   "cell_type": "markdown",
   "metadata": {},
   "source": [
    "## Test with global mass transfer\n",
    "Past compatibility"
   ]
  },
  {
   "cell_type": "code",
   "execution_count": null,
   "metadata": {},
   "outputs": [],
   "source": [
    "fn = './data/reg_test_input.xlsx'\n",
    "\n",
    "IXcol = hsdmix.HSDMIX(fn)\n",
    "# print(IXcol.__dict__)  ## shows kL, Ds in the ions data\n",
    "t, u = IXcol.solve()\n",
    "\n",
    "\n",
    "\n",
    "df = hsdmix.conv_iex_u(u, t, IXcol.ions)\n",
    "print(df)\n",
    "\n",
    "for comp in df.columns:\n",
    "    if comp in ['CHLORIDE', 'SULFATE', 'BICARBONATE', 'NITRATE']:\n",
    "        plt.plot(df.index, \n",
    "                 df[comp].values,\n",
    "                 label=comp)\n",
    "\n",
    "plt.xlabel('Time (days)')\n",
    "plt.ylabel('Concentration (ng/L)')\n",
    "plt.legend(loc='upper left')"
   ]
  }
 ],
 "metadata": {
  "kernelspec": {
   "display_name": "venv",
   "language": "python",
   "name": "python3"
  },
  "language_info": {
   "codemirror_mode": {
    "name": "ipython",
    "version": 3
   },
   "file_extension": ".py",
   "mimetype": "text/x-python",
   "name": "python",
   "nbconvert_exporter": "python",
   "pygments_lexer": "ipython3",
   "version": "3.13.1"
  }
 },
 "nbformat": 4,
 "nbformat_minor": 2
}
